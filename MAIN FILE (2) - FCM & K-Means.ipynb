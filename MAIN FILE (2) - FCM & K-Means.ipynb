{
 "cells": [
  {
   "cell_type": "code",
   "execution_count": 1,
   "id": "e99dd859",
   "metadata": {},
   "outputs": [],
   "source": [
    "import numpy as np\n",
    "import pandas as pd\n",
    "from fcmeans import FCM\n",
    "from matplotlib import pyplot as plt\n",
    "from sklearn.cluster import KMeans\n",
    "import warnings\n",
    "warnings.filterwarnings('ignore')"
   ]
  },
  {
   "cell_type": "code",
   "execution_count": 2,
   "id": "06178a1e",
   "metadata": {},
   "outputs": [],
   "source": [
    "df = pd.read_csv('rfm_inverse_transform_new.csv')\n",
    "X_scaled_df = pd.read_csv('X_scaled_df_new.csv')"
   ]
  },
  {
   "cell_type": "code",
   "execution_count": 3,
   "id": "8ecfb2d7",
   "metadata": {},
   "outputs": [
    {
     "data": {
      "text/html": [
       "<div>\n",
       "<style scoped>\n",
       "    .dataframe tbody tr th:only-of-type {\n",
       "        vertical-align: middle;\n",
       "    }\n",
       "\n",
       "    .dataframe tbody tr th {\n",
       "        vertical-align: top;\n",
       "    }\n",
       "\n",
       "    .dataframe thead th {\n",
       "        text-align: right;\n",
       "    }\n",
       "</style>\n",
       "<table border=\"1\" class=\"dataframe\">\n",
       "  <thead>\n",
       "    <tr style=\"text-align: right;\">\n",
       "      <th></th>\n",
       "      <th>Recency</th>\n",
       "      <th>Frequency</th>\n",
       "      <th>Monetary</th>\n",
       "      <th>Clusters</th>\n",
       "    </tr>\n",
       "  </thead>\n",
       "  <tbody>\n",
       "    <tr>\n",
       "      <th>0</th>\n",
       "      <td>125</td>\n",
       "      <td>1</td>\n",
       "      <td>99.33</td>\n",
       "      <td>3</td>\n",
       "    </tr>\n",
       "    <tr>\n",
       "      <th>1</th>\n",
       "      <td>64</td>\n",
       "      <td>1</td>\n",
       "      <td>24.39</td>\n",
       "      <td>3</td>\n",
       "    </tr>\n",
       "    <tr>\n",
       "      <th>2</th>\n",
       "      <td>260</td>\n",
       "      <td>1</td>\n",
       "      <td>65.71</td>\n",
       "      <td>3</td>\n",
       "    </tr>\n",
       "    <tr>\n",
       "      <th>3</th>\n",
       "      <td>266</td>\n",
       "      <td>1</td>\n",
       "      <td>107.78</td>\n",
       "      <td>3</td>\n",
       "    </tr>\n",
       "    <tr>\n",
       "      <th>4</th>\n",
       "      <td>28</td>\n",
       "      <td>3</td>\n",
       "      <td>627.74</td>\n",
       "      <td>2</td>\n",
       "    </tr>\n",
       "    <tr>\n",
       "      <th>...</th>\n",
       "      <td>...</td>\n",
       "      <td>...</td>\n",
       "      <td>...</td>\n",
       "      <td>...</td>\n",
       "    </tr>\n",
       "    <tr>\n",
       "      <th>114970</th>\n",
       "      <td>175</td>\n",
       "      <td>1</td>\n",
       "      <td>194.11</td>\n",
       "      <td>3</td>\n",
       "    </tr>\n",
       "    <tr>\n",
       "      <th>114971</th>\n",
       "      <td>105</td>\n",
       "      <td>1</td>\n",
       "      <td>198.94</td>\n",
       "      <td>2</td>\n",
       "    </tr>\n",
       "    <tr>\n",
       "      <th>114972</th>\n",
       "      <td>173</td>\n",
       "      <td>1</td>\n",
       "      <td>363.31</td>\n",
       "      <td>1</td>\n",
       "    </tr>\n",
       "    <tr>\n",
       "      <th>114973</th>\n",
       "      <td>21</td>\n",
       "      <td>1</td>\n",
       "      <td>369.54</td>\n",
       "      <td>2</td>\n",
       "    </tr>\n",
       "    <tr>\n",
       "      <th>114974</th>\n",
       "      <td>267</td>\n",
       "      <td>1</td>\n",
       "      <td>191.58</td>\n",
       "      <td>3</td>\n",
       "    </tr>\n",
       "  </tbody>\n",
       "</table>\n",
       "<p>114975 rows × 4 columns</p>\n",
       "</div>"
      ],
      "text/plain": [
       "        Recency  Frequency  Monetary  Clusters\n",
       "0           125          1     99.33         3\n",
       "1            64          1     24.39         3\n",
       "2           260          1     65.71         3\n",
       "3           266          1    107.78         3\n",
       "4            28          3    627.74         2\n",
       "...         ...        ...       ...       ...\n",
       "114970      175          1    194.11         3\n",
       "114971      105          1    198.94         2\n",
       "114972      173          1    363.31         1\n",
       "114973       21          1    369.54         2\n",
       "114974      267          1    191.58         3\n",
       "\n",
       "[114975 rows x 4 columns]"
      ]
     },
     "execution_count": 3,
     "metadata": {},
     "output_type": "execute_result"
    }
   ],
   "source": [
    "df"
   ]
  },
  {
   "cell_type": "code",
   "execution_count": 4,
   "id": "499da156",
   "metadata": {},
   "outputs": [
    {
     "data": {
      "text/html": [
       "<div>\n",
       "<style scoped>\n",
       "    .dataframe tbody tr th:only-of-type {\n",
       "        vertical-align: middle;\n",
       "    }\n",
       "\n",
       "    .dataframe tbody tr th {\n",
       "        vertical-align: top;\n",
       "    }\n",
       "\n",
       "    .dataframe thead th {\n",
       "        text-align: right;\n",
       "    }\n",
       "</style>\n",
       "<table border=\"1\" class=\"dataframe\">\n",
       "  <thead>\n",
       "    <tr style=\"text-align: right;\">\n",
       "      <th></th>\n",
       "      <th>Recency</th>\n",
       "      <th>Frequency</th>\n",
       "      <th>Monetary</th>\n",
       "    </tr>\n",
       "  </thead>\n",
       "  <tbody>\n",
       "    <tr>\n",
       "      <th>0</th>\n",
       "      <td>-0.333986</td>\n",
       "      <td>-0.571299</td>\n",
       "      <td>-0.396089</td>\n",
       "    </tr>\n",
       "    <tr>\n",
       "      <th>1</th>\n",
       "      <td>-1.030698</td>\n",
       "      <td>-0.571299</td>\n",
       "      <td>-1.684829</td>\n",
       "    </tr>\n",
       "    <tr>\n",
       "      <th>2</th>\n",
       "      <td>0.428228</td>\n",
       "      <td>-0.571299</td>\n",
       "      <td>-0.775291</td>\n",
       "    </tr>\n",
       "    <tr>\n",
       "      <th>3</th>\n",
       "      <td>0.451973</td>\n",
       "      <td>-0.571299</td>\n",
       "      <td>-0.321162</td>\n",
       "    </tr>\n",
       "    <tr>\n",
       "      <th>4</th>\n",
       "      <td>-1.891066</td>\n",
       "      <td>1.378636</td>\n",
       "      <td>1.295904</td>\n",
       "    </tr>\n",
       "    <tr>\n",
       "      <th>...</th>\n",
       "      <td>...</td>\n",
       "      <td>...</td>\n",
       "      <td>...</td>\n",
       "    </tr>\n",
       "    <tr>\n",
       "      <th>114970</th>\n",
       "      <td>0.016199</td>\n",
       "      <td>-0.571299</td>\n",
       "      <td>0.218767</td>\n",
       "    </tr>\n",
       "    <tr>\n",
       "      <th>114971</th>\n",
       "      <td>-0.515444</td>\n",
       "      <td>-0.571299</td>\n",
       "      <td>0.241323</td>\n",
       "    </tr>\n",
       "    <tr>\n",
       "      <th>114972</th>\n",
       "      <td>0.004236</td>\n",
       "      <td>-0.571299</td>\n",
       "      <td>0.794027</td>\n",
       "    </tr>\n",
       "    <tr>\n",
       "      <th>114973</th>\n",
       "      <td>-2.190472</td>\n",
       "      <td>-0.571299</td>\n",
       "      <td>0.809631</td>\n",
       "    </tr>\n",
       "    <tr>\n",
       "      <th>114974</th>\n",
       "      <td>0.455878</td>\n",
       "      <td>-0.571299</td>\n",
       "      <td>0.206727</td>\n",
       "    </tr>\n",
       "  </tbody>\n",
       "</table>\n",
       "<p>114975 rows × 3 columns</p>\n",
       "</div>"
      ],
      "text/plain": [
       "         Recency  Frequency  Monetary\n",
       "0      -0.333986  -0.571299 -0.396089\n",
       "1      -1.030698  -0.571299 -1.684829\n",
       "2       0.428228  -0.571299 -0.775291\n",
       "3       0.451973  -0.571299 -0.321162\n",
       "4      -1.891066   1.378636  1.295904\n",
       "...          ...        ...       ...\n",
       "114970  0.016199  -0.571299  0.218767\n",
       "114971 -0.515444  -0.571299  0.241323\n",
       "114972  0.004236  -0.571299  0.794027\n",
       "114973 -2.190472  -0.571299  0.809631\n",
       "114974  0.455878  -0.571299  0.206727\n",
       "\n",
       "[114975 rows x 3 columns]"
      ]
     },
     "execution_count": 4,
     "metadata": {},
     "output_type": "execute_result"
    }
   ],
   "source": [
    "X_scaled_df"
   ]
  },
  {
   "cell_type": "code",
   "execution_count": 5,
   "id": "6fd64363",
   "metadata": {},
   "outputs": [
    {
     "data": {
      "text/plain": [
       "array([[-0.33398565, -0.57129895, -0.39608904],\n",
       "       [-1.03069765, -0.57129895, -1.68482942],\n",
       "       [ 0.42822847, -0.57129895, -0.77529059],\n",
       "       ...,\n",
       "       [ 0.00423604, -0.57129895,  0.79402727],\n",
       "       [-2.19047189, -0.57129895,  0.80963095],\n",
       "       [ 0.45587818, -0.57129895,  0.20672705]])"
      ]
     },
     "execution_count": 5,
     "metadata": {},
     "output_type": "execute_result"
    }
   ],
   "source": [
    "X = X_scaled_df.to_numpy()\n",
    "X"
   ]
  },
  {
   "cell_type": "code",
   "execution_count": 6,
   "id": "14e294b4",
   "metadata": {},
   "outputs": [],
   "source": [
    "fcm = FCM(n_clusters=5,m=2,error=0.005,max_iter=100)\n",
    "fcm.fit(X_scaled_df.to_numpy())"
   ]
  },
  {
   "cell_type": "code",
   "execution_count": 7,
   "id": "7ff454de",
   "metadata": {},
   "outputs": [],
   "source": [
    "# outputs\n",
    "fcm_centers = fcm.centers\n",
    "fcm_labels = fcm.predict(X_scaled_df.to_numpy())"
   ]
  },
  {
   "cell_type": "code",
   "execution_count": 8,
   "id": "9c1e0d2a",
   "metadata": {
    "scrolled": true
   },
   "outputs": [
    {
     "data": {
      "text/plain": [
       "array([[ 0.33169001, -0.49866288,  0.05890159],\n",
       "       [ 0.45279485, -0.51989857, -0.87093317],\n",
       "       [ 0.26751904,  0.71583822,  0.60589041],\n",
       "       [-1.72270969, -0.42009052, -0.31241755],\n",
       "       [ 0.08149098,  2.0484052 ,  1.81550531]])"
      ]
     },
     "execution_count": 8,
     "metadata": {},
     "output_type": "execute_result"
    }
   ],
   "source": [
    "fcm_centers"
   ]
  },
  {
   "cell_type": "code",
   "execution_count": 12,
   "id": "e21e5404",
   "metadata": {},
   "outputs": [
    {
     "data": {
      "text/html": [
       "<div>\n",
       "<style scoped>\n",
       "    .dataframe tbody tr th:only-of-type {\n",
       "        vertical-align: middle;\n",
       "    }\n",
       "\n",
       "    .dataframe tbody tr th {\n",
       "        vertical-align: top;\n",
       "    }\n",
       "\n",
       "    .dataframe thead th {\n",
       "        text-align: right;\n",
       "    }\n",
       "</style>\n",
       "<table border=\"1\" class=\"dataframe\">\n",
       "  <thead>\n",
       "    <tr style=\"text-align: right;\">\n",
       "      <th></th>\n",
       "      <th>X</th>\n",
       "      <th>Y</th>\n",
       "      <th>Z</th>\n",
       "    </tr>\n",
       "  </thead>\n",
       "  <tbody>\n",
       "    <tr>\n",
       "      <th>0</th>\n",
       "      <td>0.331690</td>\n",
       "      <td>-0.498663</td>\n",
       "      <td>0.058902</td>\n",
       "    </tr>\n",
       "    <tr>\n",
       "      <th>1</th>\n",
       "      <td>0.452795</td>\n",
       "      <td>-0.519899</td>\n",
       "      <td>-0.870933</td>\n",
       "    </tr>\n",
       "    <tr>\n",
       "      <th>2</th>\n",
       "      <td>0.267519</td>\n",
       "      <td>0.715838</td>\n",
       "      <td>0.605890</td>\n",
       "    </tr>\n",
       "    <tr>\n",
       "      <th>3</th>\n",
       "      <td>-1.722710</td>\n",
       "      <td>-0.420091</td>\n",
       "      <td>-0.312418</td>\n",
       "    </tr>\n",
       "    <tr>\n",
       "      <th>4</th>\n",
       "      <td>0.081491</td>\n",
       "      <td>2.048405</td>\n",
       "      <td>1.815505</td>\n",
       "    </tr>\n",
       "  </tbody>\n",
       "</table>\n",
       "</div>"
      ],
      "text/plain": [
       "          X         Y         Z\n",
       "0  0.331690 -0.498663  0.058902\n",
       "1  0.452795 -0.519899 -0.870933\n",
       "2  0.267519  0.715838  0.605890\n",
       "3 -1.722710 -0.420091 -0.312418\n",
       "4  0.081491  2.048405  1.815505"
      ]
     },
     "execution_count": 12,
     "metadata": {},
     "output_type": "execute_result"
    }
   ],
   "source": [
    "centroids_df_fcm = pd.DataFrame(fcm_centers,columns = ['X','Y','Z'])\n",
    "centroids_df_fcm"
   ]
  },
  {
   "cell_type": "code",
   "execution_count": 9,
   "id": "8fa92195",
   "metadata": {},
   "outputs": [
    {
     "data": {
      "text/plain": [
       "array([0, 1, 2, 3, 4], dtype=int64)"
      ]
     },
     "execution_count": 9,
     "metadata": {},
     "output_type": "execute_result"
    }
   ],
   "source": [
    "np.unique(fcm_labels)"
   ]
  },
  {
   "cell_type": "code",
   "execution_count": 10,
   "id": "d21ade14",
   "metadata": {},
   "outputs": [
    {
     "data": {
      "text/html": [
       "<div>\n",
       "<style scoped>\n",
       "    .dataframe tbody tr th:only-of-type {\n",
       "        vertical-align: middle;\n",
       "    }\n",
       "\n",
       "    .dataframe tbody tr th {\n",
       "        vertical-align: top;\n",
       "    }\n",
       "\n",
       "    .dataframe thead th {\n",
       "        text-align: right;\n",
       "    }\n",
       "</style>\n",
       "<table border=\"1\" class=\"dataframe\">\n",
       "  <thead>\n",
       "    <tr style=\"text-align: right;\">\n",
       "      <th></th>\n",
       "      <th>Recency</th>\n",
       "      <th>Frequency</th>\n",
       "      <th>Monetary</th>\n",
       "      <th>Clusters</th>\n",
       "      <th>FCM_clusters</th>\n",
       "    </tr>\n",
       "  </thead>\n",
       "  <tbody>\n",
       "    <tr>\n",
       "      <th>0</th>\n",
       "      <td>125</td>\n",
       "      <td>1</td>\n",
       "      <td>99.33</td>\n",
       "      <td>3</td>\n",
       "      <td>0</td>\n",
       "    </tr>\n",
       "    <tr>\n",
       "      <th>1</th>\n",
       "      <td>64</td>\n",
       "      <td>1</td>\n",
       "      <td>24.39</td>\n",
       "      <td>3</td>\n",
       "      <td>3</td>\n",
       "    </tr>\n",
       "    <tr>\n",
       "      <th>2</th>\n",
       "      <td>260</td>\n",
       "      <td>1</td>\n",
       "      <td>65.71</td>\n",
       "      <td>3</td>\n",
       "      <td>1</td>\n",
       "    </tr>\n",
       "    <tr>\n",
       "      <th>3</th>\n",
       "      <td>266</td>\n",
       "      <td>1</td>\n",
       "      <td>107.78</td>\n",
       "      <td>3</td>\n",
       "      <td>0</td>\n",
       "    </tr>\n",
       "    <tr>\n",
       "      <th>4</th>\n",
       "      <td>28</td>\n",
       "      <td>3</td>\n",
       "      <td>627.74</td>\n",
       "      <td>2</td>\n",
       "      <td>4</td>\n",
       "    </tr>\n",
       "    <tr>\n",
       "      <th>...</th>\n",
       "      <td>...</td>\n",
       "      <td>...</td>\n",
       "      <td>...</td>\n",
       "      <td>...</td>\n",
       "      <td>...</td>\n",
       "    </tr>\n",
       "    <tr>\n",
       "      <th>114970</th>\n",
       "      <td>175</td>\n",
       "      <td>1</td>\n",
       "      <td>194.11</td>\n",
       "      <td>3</td>\n",
       "      <td>0</td>\n",
       "    </tr>\n",
       "    <tr>\n",
       "      <th>114971</th>\n",
       "      <td>105</td>\n",
       "      <td>1</td>\n",
       "      <td>198.94</td>\n",
       "      <td>2</td>\n",
       "      <td>0</td>\n",
       "    </tr>\n",
       "    <tr>\n",
       "      <th>114972</th>\n",
       "      <td>173</td>\n",
       "      <td>1</td>\n",
       "      <td>363.31</td>\n",
       "      <td>1</td>\n",
       "      <td>0</td>\n",
       "    </tr>\n",
       "    <tr>\n",
       "      <th>114973</th>\n",
       "      <td>21</td>\n",
       "      <td>1</td>\n",
       "      <td>369.54</td>\n",
       "      <td>2</td>\n",
       "      <td>3</td>\n",
       "    </tr>\n",
       "    <tr>\n",
       "      <th>114974</th>\n",
       "      <td>267</td>\n",
       "      <td>1</td>\n",
       "      <td>191.58</td>\n",
       "      <td>3</td>\n",
       "      <td>0</td>\n",
       "    </tr>\n",
       "  </tbody>\n",
       "</table>\n",
       "<p>114975 rows × 5 columns</p>\n",
       "</div>"
      ],
      "text/plain": [
       "        Recency  Frequency  Monetary  Clusters  FCM_clusters\n",
       "0           125          1     99.33         3             0\n",
       "1            64          1     24.39         3             3\n",
       "2           260          1     65.71         3             1\n",
       "3           266          1    107.78         3             0\n",
       "4            28          3    627.74         2             4\n",
       "...         ...        ...       ...       ...           ...\n",
       "114970      175          1    194.11         3             0\n",
       "114971      105          1    198.94         2             0\n",
       "114972      173          1    363.31         1             0\n",
       "114973       21          1    369.54         2             3\n",
       "114974      267          1    191.58         3             0\n",
       "\n",
       "[114975 rows x 5 columns]"
      ]
     },
     "execution_count": 10,
     "metadata": {},
     "output_type": "execute_result"
    }
   ],
   "source": [
    "df['FCM_clusters'] = pd.DataFrame(fcm_labels, columns = ['FCM_Clusters'])\n",
    "df"
   ]
  },
  {
   "cell_type": "code",
   "execution_count": 14,
   "id": "7fbca227",
   "metadata": {},
   "outputs": [],
   "source": [
    "model = KMeans(n_clusters=5, init='random', random_state=101)\n",
    "\n",
    "# scaling the data to normalize\n",
    "model = model.fit(X_scaled_df)\n",
    "\n",
    "# fitted labels for clusters -- the first cluster has label 0, and the second has label 1.\n",
    "y_kmeans = model.labels_"
   ]
  },
  {
   "cell_type": "code",
   "execution_count": 15,
   "id": "68b74f53",
   "metadata": {},
   "outputs": [],
   "source": [
    "y_ga = df['Clusters']"
   ]
  },
  {
   "cell_type": "code",
   "execution_count": 14,
   "id": "32bae90a",
   "metadata": {},
   "outputs": [],
   "source": [
    "y_fc = df['FCM_clusters']"
   ]
  },
  {
   "cell_type": "code",
   "execution_count": 12,
   "id": "dccd589e",
   "metadata": {},
   "outputs": [],
   "source": [
    "from sklearn.metrics import silhouette_score"
   ]
  },
  {
   "cell_type": "code",
   "execution_count": 17,
   "id": "44f286a7",
   "metadata": {},
   "outputs": [],
   "source": [
    "from sklearn.metrics import silhouette_score\n",
    "\n",
    "sil_kmeans = silhouette_score(X_scaled_df,y_kmeans)"
   ]
  },
  {
   "cell_type": "code",
   "execution_count": 18,
   "id": "92d65116",
   "metadata": {},
   "outputs": [],
   "source": [
    "sil_ga = silhouette_score(X_scaled_df,y_ga)"
   ]
  },
  {
   "cell_type": "code",
   "execution_count": 15,
   "id": "8b8ff607",
   "metadata": {},
   "outputs": [],
   "source": [
    "sil_fc = silhouette_score(X_scaled_df,y_fc)"
   ]
  },
  {
   "cell_type": "code",
   "execution_count": 17,
   "id": "e076d8b1",
   "metadata": {},
   "outputs": [
    {
     "data": {
      "text/plain": [
       "0.303"
      ]
     },
     "execution_count": 17,
     "metadata": {},
     "output_type": "execute_result"
    }
   ],
   "source": [
    "round(sil_fc,3)"
   ]
  },
  {
   "cell_type": "code",
   "execution_count": 20,
   "id": "1225f257",
   "metadata": {},
   "outputs": [
    {
     "name": "stdout",
     "output_type": "stream",
     "text": [
      "0.312\n",
      "0.335\n",
      "0.303\n"
     ]
    }
   ],
   "source": [
    "print(round(sil_kmeans,3))\n",
    "print(round(sil_ga,3))\n",
    "print(round(sil_fc,3))"
   ]
  },
  {
   "cell_type": "code",
   "execution_count": 21,
   "id": "0ba50eb1",
   "metadata": {},
   "outputs": [
    {
     "data": {
      "text/html": [
       "<div>\n",
       "<style scoped>\n",
       "    .dataframe tbody tr th:only-of-type {\n",
       "        vertical-align: middle;\n",
       "    }\n",
       "\n",
       "    .dataframe tbody tr th {\n",
       "        vertical-align: top;\n",
       "    }\n",
       "\n",
       "    .dataframe thead th {\n",
       "        text-align: right;\n",
       "    }\n",
       "</style>\n",
       "<table border=\"1\" class=\"dataframe\">\n",
       "  <thead>\n",
       "    <tr style=\"text-align: right;\">\n",
       "      <th></th>\n",
       "      <th>Recency</th>\n",
       "      <th>Frequency</th>\n",
       "      <th>Monetary</th>\n",
       "      <th>Clusters</th>\n",
       "      <th>FCM_clusters</th>\n",
       "    </tr>\n",
       "  </thead>\n",
       "  <tbody>\n",
       "    <tr>\n",
       "      <th>0</th>\n",
       "      <td>125</td>\n",
       "      <td>1</td>\n",
       "      <td>99.33</td>\n",
       "      <td>3</td>\n",
       "      <td>1</td>\n",
       "    </tr>\n",
       "    <tr>\n",
       "      <th>1</th>\n",
       "      <td>64</td>\n",
       "      <td>1</td>\n",
       "      <td>24.39</td>\n",
       "      <td>3</td>\n",
       "      <td>4</td>\n",
       "    </tr>\n",
       "    <tr>\n",
       "      <th>2</th>\n",
       "      <td>260</td>\n",
       "      <td>1</td>\n",
       "      <td>65.71</td>\n",
       "      <td>3</td>\n",
       "      <td>3</td>\n",
       "    </tr>\n",
       "    <tr>\n",
       "      <th>3</th>\n",
       "      <td>266</td>\n",
       "      <td>1</td>\n",
       "      <td>107.78</td>\n",
       "      <td>3</td>\n",
       "      <td>1</td>\n",
       "    </tr>\n",
       "    <tr>\n",
       "      <th>4</th>\n",
       "      <td>28</td>\n",
       "      <td>3</td>\n",
       "      <td>627.74</td>\n",
       "      <td>2</td>\n",
       "      <td>2</td>\n",
       "    </tr>\n",
       "    <tr>\n",
       "      <th>...</th>\n",
       "      <td>...</td>\n",
       "      <td>...</td>\n",
       "      <td>...</td>\n",
       "      <td>...</td>\n",
       "      <td>...</td>\n",
       "    </tr>\n",
       "    <tr>\n",
       "      <th>114970</th>\n",
       "      <td>175</td>\n",
       "      <td>1</td>\n",
       "      <td>194.11</td>\n",
       "      <td>3</td>\n",
       "      <td>1</td>\n",
       "    </tr>\n",
       "    <tr>\n",
       "      <th>114971</th>\n",
       "      <td>105</td>\n",
       "      <td>1</td>\n",
       "      <td>198.94</td>\n",
       "      <td>2</td>\n",
       "      <td>1</td>\n",
       "    </tr>\n",
       "    <tr>\n",
       "      <th>114972</th>\n",
       "      <td>173</td>\n",
       "      <td>1</td>\n",
       "      <td>363.31</td>\n",
       "      <td>1</td>\n",
       "      <td>1</td>\n",
       "    </tr>\n",
       "    <tr>\n",
       "      <th>114973</th>\n",
       "      <td>21</td>\n",
       "      <td>1</td>\n",
       "      <td>369.54</td>\n",
       "      <td>2</td>\n",
       "      <td>4</td>\n",
       "    </tr>\n",
       "    <tr>\n",
       "      <th>114974</th>\n",
       "      <td>267</td>\n",
       "      <td>1</td>\n",
       "      <td>191.58</td>\n",
       "      <td>3</td>\n",
       "      <td>1</td>\n",
       "    </tr>\n",
       "  </tbody>\n",
       "</table>\n",
       "<p>114975 rows × 5 columns</p>\n",
       "</div>"
      ],
      "text/plain": [
       "        Recency  Frequency  Monetary  Clusters  FCM_clusters\n",
       "0           125          1     99.33         3             1\n",
       "1            64          1     24.39         3             4\n",
       "2           260          1     65.71         3             3\n",
       "3           266          1    107.78         3             1\n",
       "4            28          3    627.74         2             2\n",
       "...         ...        ...       ...       ...           ...\n",
       "114970      175          1    194.11         3             1\n",
       "114971      105          1    198.94         2             1\n",
       "114972      173          1    363.31         1             1\n",
       "114973       21          1    369.54         2             4\n",
       "114974      267          1    191.58         3             1\n",
       "\n",
       "[114975 rows x 5 columns]"
      ]
     },
     "execution_count": 21,
     "metadata": {},
     "output_type": "execute_result"
    }
   ],
   "source": [
    "df"
   ]
  },
  {
   "cell_type": "code",
   "execution_count": 11,
   "id": "995119f0",
   "metadata": {},
   "outputs": [],
   "source": [
    "df.to_csv('df_with_FCM.csv',index=False)"
   ]
  },
  {
   "cell_type": "code",
   "execution_count": 14,
   "id": "dfd24fff",
   "metadata": {},
   "outputs": [],
   "source": [
    "centroids_df_fcm.to_csv('centroids_df_fcm.csv',index=False)"
   ]
  },
  {
   "cell_type": "code",
   "execution_count": null,
   "id": "360c0afa",
   "metadata": {},
   "outputs": [],
   "source": []
  }
 ],
 "metadata": {
  "kernelspec": {
   "display_name": "Python 3 (ipykernel)",
   "language": "python",
   "name": "python3"
  },
  "language_info": {
   "codemirror_mode": {
    "name": "ipython",
    "version": 3
   },
   "file_extension": ".py",
   "mimetype": "text/x-python",
   "name": "python",
   "nbconvert_exporter": "python",
   "pygments_lexer": "ipython3",
   "version": "3.10.2"
  }
 },
 "nbformat": 4,
 "nbformat_minor": 5
}
